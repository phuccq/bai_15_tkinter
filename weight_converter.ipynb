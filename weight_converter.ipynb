{
 "cells": [
  {
   "cell_type": "code",
   "execution_count": 13,
   "id": "60998aef",
   "metadata": {},
   "outputs": [],
   "source": [
    "import tkinter as tk\n",
    "from tkinter import ttk as ttk\n",
    "\n",
    "def convert_weight():\n",
    "    weight=entry_weight.get()\n",
    "    kg=float(weight)\n",
    "    gram=round(kg*1000,2)\n",
    "    pound=round(kg*2.20462,2)\n",
    "    ounce=round(kg*35.274,2)\n",
    "    label_result_gram['text']=str(gram)\n",
    "    label_result_pound['text']=str(pound)\n",
    "    label_result_ounce['text']=str(ounce)\n",
    "    \n",
    "\n",
    "root=tk.Tk()\n",
    "root.title('Weight Converion')\n",
    "root.geometry('500x200')\n",
    "root.resizable(False,False)\n",
    "\n",
    "frame1=ttk.Frame(root)\n",
    "label_weight=ttk.Label(frame1,text='Enter weight in Kg')\n",
    "entry_weight=ttk.Entry(frame1)\n",
    "button_convert=ttk.Button(frame1,text='Convert',command=convert_weight)\n",
    "\n",
    "label_weight.pack(side='left',fill='both',padx='10',pady='10')\n",
    "entry_weight.pack(side='left',fill='both',padx='10',pady='10')\n",
    "button_convert.pack(side='left',fill='both',padx='20',pady='10')\n",
    "\n",
    "frame2=ttk.Frame(root)\n",
    "label_gram=ttk.Label(frame2,text='gram')\n",
    "label_pound=ttk.Label(frame2,text='pounds')\n",
    "label_ounce=ttk.Label(frame2,text='ounce')\n",
    "\n",
    "label_gram.pack(side='left',fill='both',padx='40',pady='10')\n",
    "label_pound.pack(side='left',fill='both',padx='40',pady='10')\n",
    "label_ounce.pack(side='left',fill='both',padx='40',pady='10')\n",
    "\n",
    "frame3=ttk.Frame(root)\n",
    "label_result_gram=ttk.Label(frame3)\n",
    "label_result_pound=ttk.Label(frame3)\n",
    "label_result_ounce=ttk.Label(frame3)\n",
    "\n",
    "label_result_gram.pack(side='left',fill='both',padx='40',pady='10')\n",
    "label_result_pound.pack(side='left',fill='both',padx='40',pady='10')\n",
    "label_result_ounce.pack(side='left',fill='both',padx='40',pady='10')\n",
    "\n",
    "\n",
    "frame1.pack()\n",
    "frame2.pack()\n",
    "frame3.pack()\n",
    "\n",
    "tk.mainloop()"
   ]
  },
  {
   "cell_type": "code",
   "execution_count": null,
   "id": "5caba933",
   "metadata": {},
   "outputs": [],
   "source": []
  },
  {
   "cell_type": "code",
   "execution_count": null,
   "id": "f10476ac",
   "metadata": {},
   "outputs": [],
   "source": []
  }
 ],
 "metadata": {
  "kernelspec": {
   "display_name": "Python 3",
   "language": "python",
   "name": "python3"
  },
  "language_info": {
   "codemirror_mode": {
    "name": "ipython",
    "version": 3
   },
   "file_extension": ".py",
   "mimetype": "text/x-python",
   "name": "python",
   "nbconvert_exporter": "python",
   "pygments_lexer": "ipython3",
   "version": "3.8.8"
  }
 },
 "nbformat": 4,
 "nbformat_minor": 5
}
