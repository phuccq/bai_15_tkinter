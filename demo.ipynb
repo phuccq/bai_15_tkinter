{
 "cells": [
  {
   "cell_type": "code",
   "execution_count": 21,
   "id": "14bc9e53",
   "metadata": {},
   "outputs": [
    {
     "name": "stdout",
     "output_type": "stream",
     "text": [
      "('winnative', 'clam', 'alt', 'default', 'classic', 'vista', 'xpnative')\n",
      "vista\n"
     ]
    }
   ],
   "source": [
    "# import tkinter as tk\n",
    "# from tkinter import ttk\n",
    "\n",
    "# main_screen = tk.Tk()\n",
    "# main_screen.title('Demo')\n",
    "# main_screen.geometry('500x500')\n",
    "\n",
    "# style = ttk.Style(main_screen)\n",
    "# print(style.theme_names())\n",
    "# print(style.theme_use())\n",
    "# label1 = ttk.Label(main_screen,text='Label')\n",
    "# label1.grid(row=0,column=0,padx='50',pady='20')\n",
    "# label2 = ttk.Label(main_screen,text='Labe2')\n",
    "# label2.grid(row=1,column=0,sticky = 'w')\n",
    "# label3 = ttk.Label(main_screen,text='Labe3')\n",
    "# label3.grid(row=2,column=0)\n",
    "\n",
    "# tk.mainloop()"
   ]
  },
  {
   "cell_type": "code",
   "execution_count": 35,
   "id": "9af1ec4c",
   "metadata": {},
   "outputs": [],
   "source": [
    "import tkinter as tk\n",
    "from tkinter import ttk\n",
    "\n",
    "main_screen = tk.Tk()\n",
    "main_screen.title('Demo')\n",
    "main_screen.geometry('500x500')\n",
    "\n",
    "style = ttk.Style(main_screen)\n",
    "style.theme_use('default')\n",
    "\n",
    "fr1 = ttk.Frame(main_screen)\n",
    "fr1.pack(side='left', fill='both')\n",
    "lb1 = ttk.Label(fr1,text='Demo')\n",
    "lb1.pack(side='left', fill='both')\n",
    "\n",
    "tk.mainloop()"
   ]
  },
  {
   "cell_type": "code",
   "execution_count": null,
   "id": "167d316f",
   "metadata": {},
   "outputs": [],
   "source": []
  }
 ],
 "metadata": {
  "kernelspec": {
   "display_name": "Python 3",
   "language": "python",
   "name": "python3"
  },
  "language_info": {
   "codemirror_mode": {
    "name": "ipython",
    "version": 3
   },
   "file_extension": ".py",
   "mimetype": "text/x-python",
   "name": "python",
   "nbconvert_exporter": "python",
   "pygments_lexer": "ipython3",
   "version": "3.8.8"
  }
 },
 "nbformat": 4,
 "nbformat_minor": 5
}
