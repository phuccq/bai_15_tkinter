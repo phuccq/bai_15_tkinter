{
 "cells": [
  {
   "cell_type": "code",
   "execution_count": 19,
   "id": "6ee038ec",
   "metadata": {},
   "outputs": [
    {
     "name": "stdout",
     "output_type": "stream",
     "text": [
      "('winnative', 'clam', 'alt', 'default', 'classic', 'vista', 'xpnative')\n",
      "xpnative\n"
     ]
    }
   ],
   "source": [
    "import tkinter as tk\n",
    "from tkinter import ttk as ttk\n",
    "\n",
    "root = tk.Tk()\n",
    "root.title('Temperature Converter')\n",
    "root.geometry('500x500')\n",
    "root.resizable(False, False)\n",
    "\n",
    "style = ttk.Style(root)\n",
    "style.theme_use('xpnative')\n",
    "\n",
    "print(style.theme_names())\n",
    "print(style.theme_use())\n",
    "\n",
    "def f_to_c():\n",
    "    f=f_entry_text.get()\n",
    "    c=5/9 * (int(f) - 32)\n",
    "    f_result[\"text\"] = f'{round(c,0)}\\N{DEGREE CELSIUS}'\n",
    "\n",
    "def c_to_f():\n",
    "    c = c_entry_text.get()\n",
    "    f = int(c)/5*9 + 32\n",
    "    c_result[\"text\"] = f'{round(f,0)}\\N{DEGREE FAHRENHEIT}'\n",
    "\n",
    "\n",
    "# Tạo các widget cho frame 1: Chuyển độ F sang C\n",
    "frm1 = ttk.Frame(root)\n",
    "f_entry_text = tk.StringVar()\n",
    "f_entry = ttk.Entry(frm1,textvariable=f_entry_text)\n",
    "f_lb = ttk.Label(frm1,text='\\N{DEGREE FAHRENHEIT}')\n",
    "f_bt = ttk.Button(frm1,text='\\N{RIGHTWARDS BLACK ARROW}',command=f_to_c)\n",
    "f_result = ttk.Label(frm1,text='   \\N{DEGREE CELSIUS}')\n",
    "# Sắp xếp các widget cho frame 1\n",
    "f_entry.grid(row='0',column='0',padx='10',pady='10')\n",
    "f_lb.grid(row='0',column='1',padx='0',pady='10')\n",
    "f_bt.grid(row='0',column='2',padx='10',pady='10')                 \n",
    "f_result.grid(row='0',column='3',padx='20',pady='10',sticky='e')\n",
    "\n",
    "# Tạo các widget cho frame 2: Chuyển độ C sang F\n",
    "frm2 = ttk.Frame(root)\n",
    "c_entry_text = tk.StringVar()\n",
    "c_entry = ttk.Entry(frm2,textvariable=c_entry_text)\n",
    "c_lb = ttk.Label(frm2,text='\\N{DEGREE CELSIUS}')\n",
    "c_bt = ttk.Button(frm2,text='\\N{RIGHTWARDS BLACK ARROW}',command=c_to_f)\n",
    "c_result = ttk.Label(frm2,text='   \\N{DEGREE FAHRENHEIT}')\n",
    "# Sắp xếp các widget cho frame 2\n",
    "c_entry.grid(row='0',column='0',padx='10',pady='10')\n",
    "c_lb.grid(row='0',column='1',padx='0',pady='10')\n",
    "c_bt.grid(row='0',column='2',padx='10',pady='10')                 \n",
    "c_result.grid(row='0',column='3',padx='20',pady='10',sticky='e')\n",
    "                 \n",
    "# Sắp xếp các frame\n",
    "frm1.grid(row='0',column='0',sticky='w')\n",
    "frm2.grid(row='1',column='0',sticky='w')          \n",
    "             \n",
    "tk.mainloop()"
   ]
  },
  {
   "cell_type": "code",
   "execution_count": null,
   "id": "5868b7b7",
   "metadata": {},
   "outputs": [],
   "source": []
  },
  {
   "cell_type": "code",
   "execution_count": null,
   "id": "77200f03",
   "metadata": {},
   "outputs": [],
   "source": []
  }
 ],
 "metadata": {
  "kernelspec": {
   "display_name": "Python 3",
   "language": "python",
   "name": "python3"
  },
  "language_info": {
   "codemirror_mode": {
    "name": "ipython",
    "version": 3
   },
   "file_extension": ".py",
   "mimetype": "text/x-python",
   "name": "python",
   "nbconvert_exporter": "python",
   "pygments_lexer": "ipython3",
   "version": "3.8.8"
  }
 },
 "nbformat": 4,
 "nbformat_minor": 5
}
