{
 "cells": [
  {
   "cell_type": "code",
   "execution_count": 7,
   "id": "6f3c5401",
   "metadata": {},
   "outputs": [],
   "source": [
    "import tkinter as tk\n",
    "from tkinter import ttk as ttk\n",
    "\n",
    "root = tk.Tk()\n",
    "root.title('Temperature Converter')\n",
    "root.geometry('500x500')\n",
    "root.resizable(False, False)\n",
    "\n",
    "def f_to_c():\n",
    "    f=f_entry_text.get()\n",
    "    c=5/9 * (int(f) - 32)\n",
    "    f_result[\"text\"] = f'{round(c,0)}\\N{DEGREE CELSIUS}'\n",
    "\n",
    "def c_to_f():\n",
    "    c = c_entry_text.get()\n",
    "    f = int(c)/5*9 + 32\n",
    "    c_result[\"text\"] = f'{round(f,0)}\\N{DEGREE FAHRENHEIT}'\n",
    "    \n",
    "# Tạo các widget cho frame 1: Chuyển độ F sang C\n",
    "frm1 = ttk.Frame(root)\n",
    "f_entry_text = tk.StringVar()\n",
    "f_entry = ttk.Entry(frm1,textvariable=f_entry_text)\n",
    "f_lb = ttk.Label(frm1,text='\\N{DEGREE FAHRENHEIT}')\n",
    "f_bt = ttk.Button(frm1,text='\\N{RIGHTWARDS BLACK ARROW}',command=f_to_c)\n",
    "f_result = ttk.Label(frm1,text='   \\N{DEGREE CELSIUS}')\n",
    "# Sắp xếp các widget cho frame 1\n",
    "f_entry.pack(side='left',fill='both',padx='0',pady='10')\n",
    "f_lb.pack(side='left',fill='both',padx='0',pady='10')\n",
    "f_bt.pack(side='left',fill='both',padx='10',pady='10')\n",
    "f_result.pack(side='left',fill='both',padx='0',pady='10')\n",
    "\n",
    "frm1.pack(side='top',fill='both',padx='10',pady='10')\n",
    "\n",
    "tk.mainloop()"
   ]
  },
  {
   "cell_type": "code",
   "execution_count": null,
   "id": "5b48536b",
   "metadata": {},
   "outputs": [],
   "source": []
  }
 ],
 "metadata": {
  "kernelspec": {
   "display_name": "Python 3",
   "language": "python",
   "name": "python3"
  },
  "language_info": {
   "codemirror_mode": {
    "name": "ipython",
    "version": 3
   },
   "file_extension": ".py",
   "mimetype": "text/x-python",
   "name": "python",
   "nbconvert_exporter": "python",
   "pygments_lexer": "ipython3",
   "version": "3.8.8"
  }
 },
 "nbformat": 4,
 "nbformat_minor": 5
}
